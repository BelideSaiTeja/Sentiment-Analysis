{
  "metadata": {
    "kernelspec": {
      "language": "python",
      "display_name": "Python 3",
      "name": "python3"
    },
    "language_info": {
      "name": "python",
      "version": "3.10.13",
      "mimetype": "text/x-python",
      "codemirror_mode": {
        "name": "ipython",
        "version": 3
      },
      "pygments_lexer": "ipython3",
      "nbconvert_exporter": "python",
      "file_extension": ".py"
    },
    "kaggle": {
      "accelerator": "nvidiaTeslaT4",
      "dataSources": [
        {
          "sourceId": 7869521,
          "sourceType": "datasetVersion",
          "datasetId": 4617488
        }
      ],
      "dockerImageVersionId": 30665,
      "isInternetEnabled": true,
      "language": "python",
      "sourceType": "notebook",
      "isGpuEnabled": true
    },
    "colab": {
      "name": "sentiment analysis",
      "provenance": [],
      "include_colab_link": true
    }
  },
  "nbformat_minor": 0,
  "nbformat": 4,
  "cells": [
    {
      "cell_type": "markdown",
      "metadata": {
        "id": "view-in-github",
        "colab_type": "text"
      },
      "source": [
        "<a href=\"https://colab.research.google.com/github/BelideSaiTeja/Sentiment-Analysis/blob/main/sentiment_analysis.ipynb\" target=\"_parent\"><img src=\"https://colab.research.google.com/assets/colab-badge.svg\" alt=\"Open In Colab\"/></a>"
      ]
    },
    {
      "cell_type": "code",
      "source": [],
      "metadata": {
        "_uuid": "8f2839f25d086af736a60e9eeb907d3b93b6e0e5",
        "_cell_guid": "b1076dfc-b9ad-4769-8c92-a6c4dae69d19",
        "trusted": true,
        "id": "GwPM9cpWLap9"
      },
      "execution_count": null,
      "outputs": []
    },
    {
      "cell_type": "code",
      "source": [
        "import tensorflow as tf\n",
        "import os"
      ],
      "metadata": {
        "execution": {
          "iopub.status.busy": "2024-03-18T06:47:29.563951Z",
          "iopub.execute_input": "2024-03-18T06:47:29.564376Z",
          "iopub.status.idle": "2024-03-18T06:47:33.274756Z",
          "shell.execute_reply.started": "2024-03-18T06:47:29.564342Z",
          "shell.execute_reply": "2024-03-18T06:47:33.273841Z"
        },
        "trusted": true,
        "id": "Qc4s5nyeLap-",
        "outputId": "99587dd6-ad1c-4d02-f388-d80ef916c97b"
      },
      "execution_count": null,
      "outputs": [
        {
          "name": "stderr",
          "text": "2024-03-18 06:47:29.899410: E external/local_xla/xla/stream_executor/cuda/cuda_dnn.cc:9261] Unable to register cuDNN factory: Attempting to register factory for plugin cuDNN when one has already been registered\n2024-03-18 06:47:29.899465: E external/local_xla/xla/stream_executor/cuda/cuda_fft.cc:607] Unable to register cuFFT factory: Attempting to register factory for plugin cuFFT when one has already been registered\n2024-03-18 06:47:29.900931: E external/local_xla/xla/stream_executor/cuda/cuda_blas.cc:1515] Unable to register cuBLAS factory: Attempting to register factory for plugin cuBLAS when one has already been registered\n",
          "output_type": "stream"
        }
      ]
    },
    {
      "cell_type": "code",
      "source": [
        "\n",
        "!pip install transformers\n",
        "!pip install tensorflow_datasets"
      ],
      "metadata": {
        "execution": {
          "iopub.status.busy": "2024-03-18T06:47:33.510584Z",
          "iopub.execute_input": "2024-03-18T06:47:33.511789Z",
          "iopub.status.idle": "2024-03-18T06:47:58.088755Z",
          "shell.execute_reply.started": "2024-03-18T06:47:33.511748Z",
          "shell.execute_reply": "2024-03-18T06:47:58.087611Z"
        },
        "trusted": true,
        "id": "Z6kE9rZ5Lap_",
        "outputId": "52286d41-6b4e-46fe-c858-99cad25dbbf4"
      },
      "execution_count": null,
      "outputs": [
        {
          "name": "stdout",
          "text": "Requirement already satisfied: transformers in /opt/conda/lib/python3.10/site-packages (4.38.1)\nRequirement already satisfied: filelock in /opt/conda/lib/python3.10/site-packages (from transformers) (3.13.1)\nRequirement already satisfied: huggingface-hub<1.0,>=0.19.3 in /opt/conda/lib/python3.10/site-packages (from transformers) (0.20.3)\nRequirement already satisfied: numpy>=1.17 in /opt/conda/lib/python3.10/site-packages (from transformers) (1.26.4)\nRequirement already satisfied: packaging>=20.0 in /opt/conda/lib/python3.10/site-packages (from transformers) (21.3)\nRequirement already satisfied: pyyaml>=5.1 in /opt/conda/lib/python3.10/site-packages (from transformers) (6.0.1)\nRequirement already satisfied: regex!=2019.12.17 in /opt/conda/lib/python3.10/site-packages (from transformers) (2023.12.25)\nRequirement already satisfied: requests in /opt/conda/lib/python3.10/site-packages (from transformers) (2.31.0)\nRequirement already satisfied: tokenizers<0.19,>=0.14 in /opt/conda/lib/python3.10/site-packages (from transformers) (0.15.2)\nRequirement already satisfied: safetensors>=0.4.1 in /opt/conda/lib/python3.10/site-packages (from transformers) (0.4.2)\nRequirement already satisfied: tqdm>=4.27 in /opt/conda/lib/python3.10/site-packages (from transformers) (4.66.1)\nRequirement already satisfied: fsspec>=2023.5.0 in /opt/conda/lib/python3.10/site-packages (from huggingface-hub<1.0,>=0.19.3->transformers) (2024.2.0)\nRequirement already satisfied: typing-extensions>=3.7.4.3 in /opt/conda/lib/python3.10/site-packages (from huggingface-hub<1.0,>=0.19.3->transformers) (4.9.0)\nRequirement already satisfied: pyparsing!=3.0.5,>=2.0.2 in /opt/conda/lib/python3.10/site-packages (from packaging>=20.0->transformers) (3.1.1)\nRequirement already satisfied: charset-normalizer<4,>=2 in /opt/conda/lib/python3.10/site-packages (from requests->transformers) (3.3.2)\nRequirement already satisfied: idna<4,>=2.5 in /opt/conda/lib/python3.10/site-packages (from requests->transformers) (3.6)\nRequirement already satisfied: urllib3<3,>=1.21.1 in /opt/conda/lib/python3.10/site-packages (from requests->transformers) (1.26.18)\nRequirement already satisfied: certifi>=2017.4.17 in /opt/conda/lib/python3.10/site-packages (from requests->transformers) (2024.2.2)\nRequirement already satisfied: tensorflow_datasets in /opt/conda/lib/python3.10/site-packages (4.9.4)\nRequirement already satisfied: absl-py in /opt/conda/lib/python3.10/site-packages (from tensorflow_datasets) (1.4.0)\nRequirement already satisfied: click in /opt/conda/lib/python3.10/site-packages (from tensorflow_datasets) (8.1.7)\nRequirement already satisfied: dm-tree in /opt/conda/lib/python3.10/site-packages (from tensorflow_datasets) (0.1.8)\nRequirement already satisfied: etils>=0.9.0 in /opt/conda/lib/python3.10/site-packages (from etils[enp,epath,etree]>=0.9.0->tensorflow_datasets) (1.6.0)\nRequirement already satisfied: numpy in /opt/conda/lib/python3.10/site-packages (from tensorflow_datasets) (1.26.4)\nRequirement already satisfied: promise in /opt/conda/lib/python3.10/site-packages (from tensorflow_datasets) (2.3)\nRequirement already satisfied: protobuf>=3.20 in /opt/conda/lib/python3.10/site-packages (from tensorflow_datasets) (3.20.3)\nRequirement already satisfied: psutil in /opt/conda/lib/python3.10/site-packages (from tensorflow_datasets) (5.9.3)\nRequirement already satisfied: requests>=2.19.0 in /opt/conda/lib/python3.10/site-packages (from tensorflow_datasets) (2.31.0)\nRequirement already satisfied: tensorflow-metadata in /opt/conda/lib/python3.10/site-packages (from tensorflow_datasets) (0.14.0)\nRequirement already satisfied: termcolor in /opt/conda/lib/python3.10/site-packages (from tensorflow_datasets) (2.4.0)\nRequirement already satisfied: toml in /opt/conda/lib/python3.10/site-packages (from tensorflow_datasets) (0.10.2)\nRequirement already satisfied: tqdm in /opt/conda/lib/python3.10/site-packages (from tensorflow_datasets) (4.66.1)\nRequirement already satisfied: wrapt in /opt/conda/lib/python3.10/site-packages (from tensorflow_datasets) (1.14.1)\nRequirement already satisfied: array-record>=0.5.0 in /opt/conda/lib/python3.10/site-packages (from tensorflow_datasets) (0.5.0)\nRequirement already satisfied: fsspec in /opt/conda/lib/python3.10/site-packages (from etils[enp,epath,etree]>=0.9.0->tensorflow_datasets) (2024.2.0)\nRequirement already satisfied: importlib_resources in /opt/conda/lib/python3.10/site-packages (from etils[enp,epath,etree]>=0.9.0->tensorflow_datasets) (6.1.1)\nRequirement already satisfied: typing_extensions in /opt/conda/lib/python3.10/site-packages (from etils[enp,epath,etree]>=0.9.0->tensorflow_datasets) (4.9.0)\nRequirement already satisfied: zipp in /opt/conda/lib/python3.10/site-packages (from etils[enp,epath,etree]>=0.9.0->tensorflow_datasets) (3.17.0)\nRequirement already satisfied: charset-normalizer<4,>=2 in /opt/conda/lib/python3.10/site-packages (from requests>=2.19.0->tensorflow_datasets) (3.3.2)\nRequirement already satisfied: idna<4,>=2.5 in /opt/conda/lib/python3.10/site-packages (from requests>=2.19.0->tensorflow_datasets) (3.6)\nRequirement already satisfied: urllib3<3,>=1.21.1 in /opt/conda/lib/python3.10/site-packages (from requests>=2.19.0->tensorflow_datasets) (1.26.18)\nRequirement already satisfied: certifi>=2017.4.17 in /opt/conda/lib/python3.10/site-packages (from requests>=2.19.0->tensorflow_datasets) (2024.2.2)\nRequirement already satisfied: six in /opt/conda/lib/python3.10/site-packages (from promise->tensorflow_datasets) (1.16.0)\nRequirement already satisfied: googleapis-common-protos in /opt/conda/lib/python3.10/site-packages (from tensorflow-metadata->tensorflow_datasets) (1.62.0)\n",
          "output_type": "stream"
        }
      ]
    },
    {
      "cell_type": "code",
      "source": [
        "import pandas as pd\n",
        "import numpy as np\n",
        "import tensorflow_datasets as tfds\n",
        "import matplotlib.pyplot as plt"
      ],
      "metadata": {
        "execution": {
          "iopub.status.busy": "2024-03-18T06:47:58.09076Z",
          "iopub.execute_input": "2024-03-18T06:47:58.091104Z",
          "iopub.status.idle": "2024-03-18T06:47:58.519407Z",
          "shell.execute_reply.started": "2024-03-18T06:47:58.091074Z",
          "shell.execute_reply": "2024-03-18T06:47:58.518408Z"
        },
        "trusted": true,
        "id": "2RGVfu0ZLap_"
      },
      "execution_count": null,
      "outputs": []
    },
    {
      "cell_type": "code",
      "source": [
        "df = pd.read_csv('/kaggle/input/review-data/amazon_reviews_us_Mobile_Electronics_v1_00.tsv', sep='\\t', on_bad_lines=\"skip\")\n",
        "df.head()"
      ],
      "metadata": {
        "execution": {
          "iopub.status.busy": "2024-03-18T06:47:58.520561Z",
          "iopub.execute_input": "2024-03-18T06:47:58.520863Z",
          "iopub.status.idle": "2024-03-18T06:47:59.511165Z",
          "shell.execute_reply.started": "2024-03-18T06:47:58.520837Z",
          "shell.execute_reply": "2024-03-18T06:47:59.510157Z"
        },
        "trusted": true,
        "id": "be18lOElLap_",
        "outputId": "19755b29-06f0-43ca-fb8d-a7f970d1e491"
      },
      "execution_count": null,
      "outputs": [
        {
          "execution_count": 4,
          "output_type": "execute_result",
          "data": {
            "text/plain": "  marketplace  customer_id       review_id  product_id  product_parent  \\\n0          US     20422322   R8MEA6IGAHO0B  B00MC4CED8       217304173   \n1          US     40835037  R31LOQ8JGLPRLK  B00OQMFG1Q       137313254   \n2          US     51469641  R2Y0MM9YE6OP3P  B00QERR5CY        82850235   \n3          US      4332923   RRB9C05HDOD4O  B00QUFTPV4       221169481   \n4          US     44855305  R26I2RI1GFV8QG  B0067XVNTG       563475445   \n\n                                       product_title    product_category  \\\n0                               BlackVue DR600GW-PMP  Mobile_Electronics   \n1  GENSSI GSM / GPS Two Way Smart Phone Car Alarm...  Mobile_Electronics   \n2                    iXCC Multi pack Lightning cable  Mobile_Electronics   \n3  abcGoodefg® FBI Covert Acoustic Tube Earpiece ...  Mobile_Electronics   \n4  Generic Car Dashboard Video Camera Vehicle Vid...  Mobile_Electronics   \n\n   star_rating  helpful_votes  total_votes vine verified_purchase  \\\n0          5.0            0.0          0.0    N                 Y   \n1          5.0            0.0          1.0    N                 Y   \n2          5.0            0.0          0.0    N                 Y   \n3          4.0            0.0          0.0    N                 Y   \n4          2.0            0.0          0.0    N                 Y   \n\n                                     review_headline  \\\n0                                        Very Happy!   \n1                                          five star   \n2                                       great cables   \n3  Work very well but couldn't get used to not he...   \n4                         Cameras has battery issues   \n\n                                         review_body review_date  \n0  As advertised. Everything works perfectly, I'm...  2015-08-31  \n1                                         it's great  2015-08-31  \n2  These work great and fit my life proof case fo...  2015-08-31  \n3  Work very well but couldn't get used to not he...  2015-08-31  \n4  Be careful with these products, I have bought ...  2015-08-31  ",
            "text/html": "<div>\n<style scoped>\n    .dataframe tbody tr th:only-of-type {\n        vertical-align: middle;\n    }\n\n    .dataframe tbody tr th {\n        vertical-align: top;\n    }\n\n    .dataframe thead th {\n        text-align: right;\n    }\n</style>\n<table border=\"1\" class=\"dataframe\">\n  <thead>\n    <tr style=\"text-align: right;\">\n      <th></th>\n      <th>marketplace</th>\n      <th>customer_id</th>\n      <th>review_id</th>\n      <th>product_id</th>\n      <th>product_parent</th>\n      <th>product_title</th>\n      <th>product_category</th>\n      <th>star_rating</th>\n      <th>helpful_votes</th>\n      <th>total_votes</th>\n      <th>vine</th>\n      <th>verified_purchase</th>\n      <th>review_headline</th>\n      <th>review_body</th>\n      <th>review_date</th>\n    </tr>\n  </thead>\n  <tbody>\n    <tr>\n      <th>0</th>\n      <td>US</td>\n      <td>20422322</td>\n      <td>R8MEA6IGAHO0B</td>\n      <td>B00MC4CED8</td>\n      <td>217304173</td>\n      <td>BlackVue DR600GW-PMP</td>\n      <td>Mobile_Electronics</td>\n      <td>5.0</td>\n      <td>0.0</td>\n      <td>0.0</td>\n      <td>N</td>\n      <td>Y</td>\n      <td>Very Happy!</td>\n      <td>As advertised. Everything works perfectly, I'm...</td>\n      <td>2015-08-31</td>\n    </tr>\n    <tr>\n      <th>1</th>\n      <td>US</td>\n      <td>40835037</td>\n      <td>R31LOQ8JGLPRLK</td>\n      <td>B00OQMFG1Q</td>\n      <td>137313254</td>\n      <td>GENSSI GSM / GPS Two Way Smart Phone Car Alarm...</td>\n      <td>Mobile_Electronics</td>\n      <td>5.0</td>\n      <td>0.0</td>\n      <td>1.0</td>\n      <td>N</td>\n      <td>Y</td>\n      <td>five star</td>\n      <td>it's great</td>\n      <td>2015-08-31</td>\n    </tr>\n    <tr>\n      <th>2</th>\n      <td>US</td>\n      <td>51469641</td>\n      <td>R2Y0MM9YE6OP3P</td>\n      <td>B00QERR5CY</td>\n      <td>82850235</td>\n      <td>iXCC Multi pack Lightning cable</td>\n      <td>Mobile_Electronics</td>\n      <td>5.0</td>\n      <td>0.0</td>\n      <td>0.0</td>\n      <td>N</td>\n      <td>Y</td>\n      <td>great cables</td>\n      <td>These work great and fit my life proof case fo...</td>\n      <td>2015-08-31</td>\n    </tr>\n    <tr>\n      <th>3</th>\n      <td>US</td>\n      <td>4332923</td>\n      <td>RRB9C05HDOD4O</td>\n      <td>B00QUFTPV4</td>\n      <td>221169481</td>\n      <td>abcGoodefg® FBI Covert Acoustic Tube Earpiece ...</td>\n      <td>Mobile_Electronics</td>\n      <td>4.0</td>\n      <td>0.0</td>\n      <td>0.0</td>\n      <td>N</td>\n      <td>Y</td>\n      <td>Work very well but couldn't get used to not he...</td>\n      <td>Work very well but couldn't get used to not he...</td>\n      <td>2015-08-31</td>\n    </tr>\n    <tr>\n      <th>4</th>\n      <td>US</td>\n      <td>44855305</td>\n      <td>R26I2RI1GFV8QG</td>\n      <td>B0067XVNTG</td>\n      <td>563475445</td>\n      <td>Generic Car Dashboard Video Camera Vehicle Vid...</td>\n      <td>Mobile_Electronics</td>\n      <td>2.0</td>\n      <td>0.0</td>\n      <td>0.0</td>\n      <td>N</td>\n      <td>Y</td>\n      <td>Cameras has battery issues</td>\n      <td>Be careful with these products, I have bought ...</td>\n      <td>2015-08-31</td>\n    </tr>\n  </tbody>\n</table>\n</div>"
          },
          "metadata": {}
        }
      ]
    },
    {
      "cell_type": "code",
      "source": [
        "columns_of_interest = ['star_rating', 'review_body']\n",
        "data = df[columns_of_interest]\n",
        "data.head()"
      ],
      "metadata": {
        "execution": {
          "iopub.status.busy": "2024-03-18T06:48:02.757615Z",
          "iopub.execute_input": "2024-03-18T06:48:02.758017Z",
          "iopub.status.idle": "2024-03-18T06:48:02.771806Z",
          "shell.execute_reply.started": "2024-03-18T06:48:02.757989Z",
          "shell.execute_reply": "2024-03-18T06:48:02.770827Z"
        },
        "trusted": true,
        "id": "AShe_lzFLap_",
        "outputId": "29e96984-6289-47a4-d04a-acbd3ad7c347"
      },
      "execution_count": null,
      "outputs": [
        {
          "execution_count": 5,
          "output_type": "execute_result",
          "data": {
            "text/plain": "   star_rating                                        review_body\n0          5.0  As advertised. Everything works perfectly, I'm...\n1          5.0                                         it's great\n2          5.0  These work great and fit my life proof case fo...\n3          4.0  Work very well but couldn't get used to not he...\n4          2.0  Be careful with these products, I have bought ...",
            "text/html": "<div>\n<style scoped>\n    .dataframe tbody tr th:only-of-type {\n        vertical-align: middle;\n    }\n\n    .dataframe tbody tr th {\n        vertical-align: top;\n    }\n\n    .dataframe thead th {\n        text-align: right;\n    }\n</style>\n<table border=\"1\" class=\"dataframe\">\n  <thead>\n    <tr style=\"text-align: right;\">\n      <th></th>\n      <th>star_rating</th>\n      <th>review_body</th>\n    </tr>\n  </thead>\n  <tbody>\n    <tr>\n      <th>0</th>\n      <td>5.0</td>\n      <td>As advertised. Everything works perfectly, I'm...</td>\n    </tr>\n    <tr>\n      <th>1</th>\n      <td>5.0</td>\n      <td>it's great</td>\n    </tr>\n    <tr>\n      <th>2</th>\n      <td>5.0</td>\n      <td>These work great and fit my life proof case fo...</td>\n    </tr>\n    <tr>\n      <th>3</th>\n      <td>4.0</td>\n      <td>Work very well but couldn't get used to not he...</td>\n    </tr>\n    <tr>\n      <th>4</th>\n      <td>2.0</td>\n      <td>Be careful with these products, I have bought ...</td>\n    </tr>\n  </tbody>\n</table>\n</div>"
          },
          "metadata": {}
        }
      ]
    },
    {
      "cell_type": "code",
      "source": [
        "data.isnull().sum()"
      ],
      "metadata": {
        "execution": {
          "iopub.status.busy": "2024-03-18T06:48:06.629444Z",
          "iopub.execute_input": "2024-03-18T06:48:06.63015Z",
          "iopub.status.idle": "2024-03-18T06:48:06.652132Z",
          "shell.execute_reply.started": "2024-03-18T06:48:06.630115Z",
          "shell.execute_reply": "2024-03-18T06:48:06.651065Z"
        },
        "trusted": true,
        "id": "kwxAYw4HLaqA",
        "outputId": "01c4c61d-15a7-49af-b642-6870d698838e"
      },
      "execution_count": null,
      "outputs": [
        {
          "execution_count": 6,
          "output_type": "execute_result",
          "data": {
            "text/plain": "star_rating    2\nreview_body    4\ndtype: int64"
          },
          "metadata": {}
        }
      ]
    },
    {
      "cell_type": "code",
      "source": [
        "data = data.dropna()"
      ],
      "metadata": {
        "execution": {
          "iopub.status.busy": "2024-03-18T06:48:09.79857Z",
          "iopub.execute_input": "2024-03-18T06:48:09.799272Z",
          "iopub.status.idle": "2024-03-18T06:48:09.823259Z",
          "shell.execute_reply.started": "2024-03-18T06:48:09.799238Z",
          "shell.execute_reply": "2024-03-18T06:48:09.822476Z"
        },
        "trusted": true,
        "id": "qRGzwX8WLaqA"
      },
      "execution_count": null,
      "outputs": []
    },
    {
      "cell_type": "code",
      "source": [
        "data.shape"
      ],
      "metadata": {
        "execution": {
          "iopub.status.busy": "2024-03-18T06:48:15.95824Z",
          "iopub.execute_input": "2024-03-18T06:48:15.958918Z",
          "iopub.status.idle": "2024-03-18T06:48:15.964186Z",
          "shell.execute_reply.started": "2024-03-18T06:48:15.958886Z",
          "shell.execute_reply": "2024-03-18T06:48:15.963329Z"
        },
        "trusted": true,
        "id": "RelkFfJHLaqA",
        "outputId": "fb594143-9683-4f3a-fab1-2e78e6d2f604"
      },
      "execution_count": null,
      "outputs": [
        {
          "execution_count": 8,
          "output_type": "execute_result",
          "data": {
            "text/plain": "(104848, 2)"
          },
          "metadata": {}
        }
      ]
    },
    {
      "cell_type": "code",
      "source": [
        "data['star_rating'] = data['star_rating'].apply(lambda rating: 'positive' if rating >=3 else 'negative')"
      ],
      "metadata": {
        "execution": {
          "iopub.status.busy": "2024-03-18T06:48:25.301798Z",
          "iopub.execute_input": "2024-03-18T06:48:25.302508Z",
          "iopub.status.idle": "2024-03-18T06:48:25.347345Z",
          "shell.execute_reply.started": "2024-03-18T06:48:25.302473Z",
          "shell.execute_reply": "2024-03-18T06:48:25.346563Z"
        },
        "trusted": true,
        "id": "WWoRlEZyLaqA"
      },
      "execution_count": null,
      "outputs": []
    },
    {
      "cell_type": "code",
      "source": [
        "data['sentiment'] = data['star_rating'].map({'positive':1,\n",
        "                                             'negative':0})\n",
        "\n",
        "# drop the star_rating column\n",
        "data.drop(columns = ['star_rating'], inplace = True)"
      ],
      "metadata": {
        "execution": {
          "iopub.status.busy": "2024-03-18T06:48:33.326675Z",
          "iopub.execute_input": "2024-03-18T06:48:33.32733Z",
          "iopub.status.idle": "2024-03-18T06:48:33.346004Z",
          "shell.execute_reply.started": "2024-03-18T06:48:33.327296Z",
          "shell.execute_reply": "2024-03-18T06:48:33.345288Z"
        },
        "trusted": true,
        "id": "2Qhww3AJLaqB"
      },
      "execution_count": null,
      "outputs": []
    },
    {
      "cell_type": "code",
      "source": [
        "X = data.drop('sentiment', axis = 1)\n",
        "y = data['sentiment']"
      ],
      "metadata": {
        "execution": {
          "iopub.status.busy": "2024-03-18T06:48:37.956376Z",
          "iopub.execute_input": "2024-03-18T06:48:37.956716Z",
          "iopub.status.idle": "2024-03-18T06:48:37.965947Z",
          "shell.execute_reply.started": "2024-03-18T06:48:37.95669Z",
          "shell.execute_reply": "2024-03-18T06:48:37.964831Z"
        },
        "trusted": true,
        "id": "jgo7xXJwLaqB"
      },
      "execution_count": null,
      "outputs": []
    },
    {
      "cell_type": "code",
      "source": [
        "X = X['review_body'].tolist()"
      ],
      "metadata": {
        "execution": {
          "iopub.status.busy": "2024-03-18T06:48:41.327987Z",
          "iopub.execute_input": "2024-03-18T06:48:41.328733Z",
          "iopub.status.idle": "2024-03-18T06:48:41.33737Z",
          "shell.execute_reply.started": "2024-03-18T06:48:41.328696Z",
          "shell.execute_reply": "2024-03-18T06:48:41.33625Z"
        },
        "trusted": true,
        "id": "4sXu1rsfLaqB"
      },
      "execution_count": null,
      "outputs": []
    },
    {
      "cell_type": "code",
      "source": [
        "from sklearn.model_selection import train_test_split\n",
        "X_train, X_test, y_train, y_test = train_test_split(X, y, test_size = 0.2, random_state = 7)"
      ],
      "metadata": {
        "execution": {
          "iopub.status.busy": "2024-03-18T06:48:44.483203Z",
          "iopub.execute_input": "2024-03-18T06:48:44.484016Z",
          "iopub.status.idle": "2024-03-18T06:48:45.00601Z",
          "shell.execute_reply.started": "2024-03-18T06:48:44.483975Z",
          "shell.execute_reply": "2024-03-18T06:48:45.005131Z"
        },
        "trusted": true,
        "id": "3Hv_GG_wLaqB"
      },
      "execution_count": null,
      "outputs": []
    },
    {
      "cell_type": "code",
      "source": [
        "# load the tokenizer\n",
        "from transformers import DistilBertTokenizerFast\n",
        "model_name = 'distilbert-base-uncased-finetuned-sst-2-english'\n",
        "tokenizer = DistilBertTokenizerFast.from_pretrained(model_name)"
      ],
      "metadata": {
        "execution": {
          "iopub.status.busy": "2024-03-18T06:48:49.100924Z",
          "iopub.execute_input": "2024-03-18T06:48:49.101568Z",
          "iopub.status.idle": "2024-03-18T06:48:55.317058Z",
          "shell.execute_reply.started": "2024-03-18T06:48:49.101537Z",
          "shell.execute_reply": "2024-03-18T06:48:55.316286Z"
        },
        "trusted": true,
        "colab": {
          "referenced_widgets": [
            "239cf214d938480aa09b0135d89838ca",
            "20a793ed4bfd47e1b849aad736623af5",
            "a2c9437d9c0d48f8848c63a69f0f6efb"
          ]
        },
        "id": "iPYKNjiXLaqB",
        "outputId": "c76bada2-5076-44b1-d124-2e9af0dbfb20"
      },
      "execution_count": null,
      "outputs": [
        {
          "output_type": "display_data",
          "data": {
            "text/plain": "tokenizer_config.json:   0%|          | 0.00/48.0 [00:00<?, ?B/s]",
            "application/vnd.jupyter.widget-view+json": {
              "version_major": 2,
              "version_minor": 0,
              "model_id": "239cf214d938480aa09b0135d89838ca"
            }
          },
          "metadata": {}
        },
        {
          "output_type": "display_data",
          "data": {
            "text/plain": "vocab.txt:   0%|          | 0.00/232k [00:00<?, ?B/s]",
            "application/vnd.jupyter.widget-view+json": {
              "version_major": 2,
              "version_minor": 0,
              "model_id": "20a793ed4bfd47e1b849aad736623af5"
            }
          },
          "metadata": {}
        },
        {
          "output_type": "display_data",
          "data": {
            "text/plain": "config.json:   0%|          | 0.00/629 [00:00<?, ?B/s]",
            "application/vnd.jupyter.widget-view+json": {
              "version_major": 2,
              "version_minor": 0,
              "model_id": "a2c9437d9c0d48f8848c63a69f0f6efb"
            }
          },
          "metadata": {}
        }
      ]
    },
    {
      "cell_type": "code",
      "source": [
        "print('Sentence: ', X_train[0])\n",
        "tokenizer(X_train[0],\n",
        "          truncation = True,\n",
        "          padding = True,\n",
        "          max_length = 512,\n",
        "          return_tensors = 'tf')"
      ],
      "metadata": {
        "execution": {
          "iopub.status.busy": "2024-03-18T06:49:02.364655Z",
          "iopub.execute_input": "2024-03-18T06:49:02.365612Z",
          "iopub.status.idle": "2024-03-18T06:49:02.997206Z",
          "shell.execute_reply.started": "2024-03-18T06:49:02.365575Z",
          "shell.execute_reply": "2024-03-18T06:49:02.996137Z"
        },
        "trusted": true,
        "id": "1V5df1LALaqC",
        "outputId": "cece4755-ed6e-463c-ed40-d235ce472f0a"
      },
      "execution_count": null,
      "outputs": [
        {
          "name": "stdout",
          "text": "Sentence:  All of the negative comments are true!   Clock runs fast, nature sounds are bad, and display is unreadable!\n",
          "output_type": "stream"
        },
        {
          "execution_count": 15,
          "output_type": "execute_result",
          "data": {
            "text/plain": "{'input_ids': <tf.Tensor: shape=(1, 26), dtype=int32, numpy=\narray([[  101,  2035,  1997,  1996,  4997,  7928,  2024,  2995,   999,\n         5119,  3216,  3435,  1010,  3267,  4165,  2024,  2919,  1010,\n         1998,  4653,  2003,  4895, 16416, 20782,   999,   102]],\n      dtype=int32)>, 'attention_mask': <tf.Tensor: shape=(1, 26), dtype=int32, numpy=\narray([[1, 1, 1, 1, 1, 1, 1, 1, 1, 1, 1, 1, 1, 1, 1, 1, 1, 1, 1, 1, 1, 1,\n        1, 1, 1, 1]], dtype=int32)>}"
          },
          "metadata": {}
        }
      ]
    },
    {
      "cell_type": "code",
      "source": [
        "max_length = 512\n",
        "train_encodings = tokenizer(X_train,\n",
        "                            truncation = True,\n",
        "                            padding = True,\n",
        "                            return_tensors = 'tf',\n",
        "                            max_length = max_length)\n",
        "test_encodings = tokenizer(X_test,\n",
        "                            truncation = True,\n",
        "                            padding = True,\n",
        "                            return_tensors = 'tf',\n",
        "                            max_length = max_length)"
      ],
      "metadata": {
        "execution": {
          "iopub.status.busy": "2024-03-18T06:49:13.078255Z",
          "iopub.execute_input": "2024-03-18T06:49:13.078638Z",
          "iopub.status.idle": "2024-03-18T06:49:37.138425Z",
          "shell.execute_reply.started": "2024-03-18T06:49:13.078606Z",
          "shell.execute_reply": "2024-03-18T06:49:37.137392Z"
        },
        "trusted": true,
        "id": "9PgMmSMNLaqC"
      },
      "execution_count": null,
      "outputs": []
    },
    {
      "cell_type": "code",
      "source": [
        "# convert tokenizer to tf object\n",
        "train_dataset = tf.data.Dataset.from_tensor_slices((dict(train_encodings),\n",
        "                                                    y_train))\n",
        "test_dataset = tf.data.Dataset.from_tensor_slices((dict(test_encodings),\n",
        "                                                    y_test))"
      ],
      "metadata": {
        "execution": {
          "iopub.status.busy": "2024-03-18T06:49:52.613588Z",
          "iopub.execute_input": "2024-03-18T06:49:52.613975Z",
          "iopub.status.idle": "2024-03-18T06:49:52.634357Z",
          "shell.execute_reply.started": "2024-03-18T06:49:52.613942Z",
          "shell.execute_reply": "2024-03-18T06:49:52.633506Z"
        },
        "trusted": true,
        "id": "irRrh9ahLaqC"
      },
      "execution_count": null,
      "outputs": []
    },
    {
      "cell_type": "code",
      "source": [
        "from transformers import TFDistilBertForSequenceClassification\n",
        "model = TFDistilBertForSequenceClassification.from_pretrained(\n",
        "    pretrained_model_name_or_path = model_name,\n",
        "    num_labels = 2\n",
        ")"
      ],
      "metadata": {
        "execution": {
          "iopub.status.busy": "2024-03-18T06:49:58.724207Z",
          "iopub.execute_input": "2024-03-18T06:49:58.724576Z",
          "iopub.status.idle": "2024-03-18T06:50:01.529173Z",
          "shell.execute_reply.started": "2024-03-18T06:49:58.724547Z",
          "shell.execute_reply": "2024-03-18T06:50:01.528434Z"
        },
        "trusted": true,
        "colab": {
          "referenced_widgets": [
            "930e21f9829a4af0bed2d7166ea241ad"
          ]
        },
        "id": "T-pDnWccLaqC",
        "outputId": "9e454c01-038c-42f4-f685-b7812bc195fc"
      },
      "execution_count": null,
      "outputs": [
        {
          "output_type": "display_data",
          "data": {
            "text/plain": "model.safetensors:   0%|          | 0.00/268M [00:00<?, ?B/s]",
            "application/vnd.jupyter.widget-view+json": {
              "version_major": 2,
              "version_minor": 0,
              "model_id": "930e21f9829a4af0bed2d7166ea241ad"
            }
          },
          "metadata": {}
        },
        {
          "name": "stderr",
          "text": "All PyTorch model weights were used when initializing TFDistilBertForSequenceClassification.\n\nAll the weights of TFDistilBertForSequenceClassification were initialized from the PyTorch model.\nIf your task is similar to the task the model of the checkpoint was trained on, you can already use TFDistilBertForSequenceClassification for predictions without further training.\n",
          "output_type": "stream"
        }
      ]
    },
    {
      "cell_type": "code",
      "source": [
        "optimizer = tf.keras.optimizers.Adam(\n",
        "    learning_rate = 5e-5,\n",
        ")"
      ],
      "metadata": {
        "execution": {
          "iopub.status.busy": "2024-03-18T06:50:05.82792Z",
          "iopub.execute_input": "2024-03-18T06:50:05.828318Z",
          "iopub.status.idle": "2024-03-18T06:50:05.836971Z",
          "shell.execute_reply.started": "2024-03-18T06:50:05.828285Z",
          "shell.execute_reply": "2024-03-18T06:50:05.836182Z"
        },
        "trusted": true,
        "id": "89c74ifoLaqC"
      },
      "execution_count": null,
      "outputs": []
    },
    {
      "cell_type": "code",
      "source": [
        "loss_func = tf.keras.losses.SparseCategoricalCrossentropy(from_logits = True)"
      ],
      "metadata": {
        "execution": {
          "iopub.status.busy": "2024-03-18T06:50:09.179049Z",
          "iopub.execute_input": "2024-03-18T06:50:09.180034Z",
          "iopub.status.idle": "2024-03-18T06:50:09.186328Z",
          "shell.execute_reply.started": "2024-03-18T06:50:09.179997Z",
          "shell.execute_reply": "2024-03-18T06:50:09.185229Z"
        },
        "trusted": true,
        "id": "uBxoRDyNLaqC"
      },
      "execution_count": null,
      "outputs": []
    },
    {
      "cell_type": "code",
      "source": [
        "from tensorflow.keras.optimizers import Adam\n",
        "model.compile(optimizer = 'adam', loss = loss_func, metrics = ['accuracy'])"
      ],
      "metadata": {
        "execution": {
          "iopub.status.busy": "2024-03-18T06:50:17.75663Z",
          "iopub.execute_input": "2024-03-18T06:50:17.757586Z",
          "iopub.status.idle": "2024-03-18T06:50:17.781205Z",
          "shell.execute_reply.started": "2024-03-18T06:50:17.757542Z",
          "shell.execute_reply": "2024-03-18T06:50:17.780275Z"
        },
        "trusted": true,
        "id": "azuPEHl0LaqC"
      },
      "execution_count": null,
      "outputs": []
    },
    {
      "cell_type": "code",
      "source": [
        "model.summary()"
      ],
      "metadata": {
        "execution": {
          "iopub.status.busy": "2024-03-18T06:50:21.628925Z",
          "iopub.execute_input": "2024-03-18T06:50:21.629298Z",
          "iopub.status.idle": "2024-03-18T06:50:21.665963Z",
          "shell.execute_reply.started": "2024-03-18T06:50:21.629267Z",
          "shell.execute_reply": "2024-03-18T06:50:21.66487Z"
        },
        "trusted": true,
        "id": "91y8whVOLaqD",
        "outputId": "3125eef8-96ff-413d-ed0d-8b8b323e49a3"
      },
      "execution_count": null,
      "outputs": [
        {
          "name": "stdout",
          "text": "Model: \"tf_distil_bert_for_sequence_classification\"\n_________________________________________________________________\n Layer (type)                Output Shape              Param #   \n=================================================================\n distilbert (TFDistilBertMa  multiple                  66362880  \n inLayer)                                                        \n                                                                 \n pre_classifier (Dense)      multiple                  590592    \n                                                                 \n classifier (Dense)          multiple                  1538      \n                                                                 \n dropout_19 (Dropout)        multiple                  0 (unused)\n                                                                 \n=================================================================\nTotal params: 66955010 (255.41 MB)\nTrainable params: 66955010 (255.41 MB)\nNon-trainable params: 0 (0.00 Byte)\n_________________________________________________________________\n",
          "output_type": "stream"
        }
      ]
    },
    {
      "cell_type": "code",
      "source": [
        "batch_size = 16\n",
        "epochs = 2\n",
        "model.fit(train_dataset.shuffle(len(X_train)).batch(batch_size),\n",
        "          epochs = epochs,\n",
        "          batch_size = batch_size,\n",
        "          validation_data = test_dataset.shuffle(len(X_test)).batch(batch_size))"
      ],
      "metadata": {
        "execution": {
          "iopub.status.busy": "2024-03-18T06:52:34.01265Z",
          "iopub.execute_input": "2024-03-18T06:52:34.013055Z",
          "iopub.status.idle": "2024-03-18T09:46:26.118786Z",
          "shell.execute_reply.started": "2024-03-18T06:52:34.013024Z",
          "shell.execute_reply": "2024-03-18T09:46:26.117421Z"
        },
        "trusted": true,
        "id": "GFEka5XwLaqD",
        "outputId": "c6aba1af-8670-4088-f1d4-fd010db577e1"
      },
      "execution_count": null,
      "outputs": [
        {
          "name": "stdout",
          "text": "Epoch 1/2\nWARNING: AutoGraph could not transform <function infer_framework at 0x7d274b32fac0> and will run it as-is.\nCause: for/else statement not yet supported\nTo silence this warning, decorate the function with @tf.autograph.experimental.do_not_convert\n",
          "output_type": "stream"
        },
        {
          "name": "stderr",
          "text": "WARNING: All log messages before absl::InitializeLog() is called are written to STDERR\nI0000 00:00:1710744803.374520     187 device_compiler.h:186] Compiled cluster using XLA!  This line is logged at most once for the lifetime of the process.\n",
          "output_type": "stream"
        },
        {
          "name": "stdout",
          "text": "5243/5243 [==============================] - 5245s 990ms/step - loss: 0.5533 - accuracy: 0.7630 - val_loss: 0.5516 - val_accuracy: 0.7600\nEpoch 2/2\n5243/5243 [==============================] - 5187s 989ms/step - loss: 0.5486 - accuracy: 0.7635 - val_loss: 0.5511 - val_accuracy: 0.7600\n",
          "output_type": "stream"
        },
        {
          "execution_count": 23,
          "output_type": "execute_result",
          "data": {
            "text/plain": "<tf_keras.src.callbacks.History at 0x7d222bf3a560>"
          },
          "metadata": {}
        }
      ]
    },
    {
      "cell_type": "code",
      "source": [
        "model.save_pretrained('/tmp/sentiment_model')"
      ],
      "metadata": {
        "execution": {
          "iopub.status.busy": "2024-03-18T09:51:48.67277Z",
          "iopub.execute_input": "2024-03-18T09:51:48.673225Z",
          "iopub.status.idle": "2024-03-18T09:51:49.225294Z",
          "shell.execute_reply.started": "2024-03-18T09:51:48.673189Z",
          "shell.execute_reply": "2024-03-18T09:51:49.224242Z"
        },
        "trusted": true,
        "id": "c8aRy50ALaqD"
      },
      "execution_count": null,
      "outputs": []
    },
    {
      "cell_type": "code",
      "source": [
        "# preprocess the unseen data\n",
        "unseen_data = data.sample(frac = 0.05, random_state = 7)\n",
        "unseen_reviews = unseen_data['review_body'].tolist()\n",
        "\n",
        "unseen_encodings = tokenizer(unseen_reviews,\n",
        "                             padding = True,\n",
        "                             truncation = True,\n",
        "                             return_tensors = 'tf')\n",
        "y_unseen = unseen_data['sentiment'].tolist()\n",
        "unseen_encodings = tf.data.Dataset.from_tensor_slices((dict(unseen_encodings),\n",
        "                                                       y_unseen))"
      ],
      "metadata": {
        "execution": {
          "iopub.status.busy": "2024-03-18T10:26:13.978601Z",
          "iopub.execute_input": "2024-03-18T10:26:13.97977Z",
          "iopub.status.idle": "2024-03-18T10:26:15.242034Z",
          "shell.execute_reply.started": "2024-03-18T10:26:13.979732Z",
          "shell.execute_reply": "2024-03-18T10:26:15.240774Z"
        },
        "trusted": true,
        "id": "uugVHJtgLaqD"
      },
      "execution_count": null,
      "outputs": []
    },
    {
      "cell_type": "code",
      "source": [
        "model.evaluate(unseen_encodings.shuffle(len(unseen_reviews)).batch(batch_size),\n",
        "               #retrun_dict = True,\n",
        "               batch_size = batch_size)"
      ],
      "metadata": {
        "execution": {
          "iopub.status.busy": "2024-03-18T10:29:07.034667Z",
          "iopub.execute_input": "2024-03-18T10:29:07.03549Z",
          "iopub.status.idle": "2024-03-18T10:30:56.293043Z",
          "shell.execute_reply.started": "2024-03-18T10:29:07.035451Z",
          "shell.execute_reply": "2024-03-18T10:30:56.29199Z"
        },
        "trusted": true,
        "id": "zYhbCY7mLaqF",
        "outputId": "a0c57070-e947-44e8-8fcf-58c544adcda6"
      },
      "execution_count": null,
      "outputs": [
        {
          "name": "stdout",
          "text": "328/328 [==============================] - 109s 318ms/step - loss: 0.5552 - accuracy: 0.7564\n",
          "output_type": "stream"
        },
        {
          "execution_count": 31,
          "output_type": "execute_result",
          "data": {
            "text/plain": "[0.5552161335945129, 0.7563906908035278]"
          },
          "metadata": {}
        }
      ]
    },
    {
      "cell_type": "code",
      "source": [],
      "metadata": {
        "id": "yjhyMGczLaqF"
      },
      "execution_count": null,
      "outputs": []
    },
    {
      "cell_type": "code",
      "source": [],
      "metadata": {
        "id": "5EkPv2v2LaqG"
      },
      "execution_count": null,
      "outputs": []
    }
  ]
}